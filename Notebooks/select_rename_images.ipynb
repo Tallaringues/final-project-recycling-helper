{
 "cells": [
  {
   "attachments": {},
   "cell_type": "markdown",
   "metadata": {},
   "source": [
    "# Select random sample of images\n",
    "## Organic"
   ]
  },
  {
   "cell_type": "code",
   "execution_count": 2,
   "metadata": {},
   "outputs": [
    {
     "name": "stdout",
     "output_type": "stream",
     "text": [
      "10066\n"
     ]
    }
   ],
   "source": [
    "# organic\n",
    "import os\n",
    "import shutil\n",
    "import glob\n",
    "import random\n",
    "\n",
    "files_list = []\n",
    "# C:\\Users\\marta\\Documents\\Courses\\Data_analysis\\Week_9\\Images\\waste_segreg_dataset_bio-nonbio\\Dataset\\train\\biodegradable\\food_waste\n",
    "\n",
    "for root, dirs, files in os.walk(\"C:/Users/marta/Documents/Courses/Data_analysis/Week_9/Images/waste_segreg_dataset_bio-nonbio/Dataset/train/biodegradable/food_waste/\"):\n",
    "    for file in files:\n",
    "        #all \n",
    "        if file.endswith(\".jpg\") or file.endswith(\".png\") or file.endswith(\".jpeg\"):\n",
    "            files_list.append(os.path.join(root, file))\n",
    "\n",
    "\n",
    "#print images\n",
    "#lets me count and print the amount of jpeg,jpg,pmg \n",
    "file_count = len(files_list)\n",
    "print(file_count)\n",
    "\n",
    "# print files_list   \n",
    "filesToCopy = random.sample(files_list, 1259)  #prints two random files from list \n",
    "\n",
    "destPath = \"C:/Users/marta/Documents/Courses/Data_analysis/Week_9/Images/garbage_classification/organic1241/selected/\"\n",
    "\n",
    "# if destination dir does not exists, create it\n",
    "if os.path.isdir(destPath) == False:\n",
    "        os.makedirs(destPath)\n",
    "\n",
    "# iteraate over all random files and move them\n",
    "for file in filesToCopy:\n",
    "    shutil.copy(file, destPath)"
   ]
  },
  {
   "attachments": {},
   "cell_type": "markdown",
   "metadata": {},
   "source": [
    "## Paper"
   ]
  },
  {
   "cell_type": "code",
   "execution_count": null,
   "metadata": {},
   "outputs": [
    {
     "name": "stdout",
     "output_type": "stream",
     "text": [
      "10066\n"
     ]
    }
   ],
   "source": [
    "# organic\n",
    "import os\n",
    "import shutil\n",
    "import glob\n",
    "import random\n",
    "\n",
    "files_list = []\n",
    "# C:\\Users\\marta\\Documents\\Courses\\Data_analysis\\Week_9\\Images\\waste_segreg_dataset_bio-nonbio\\Dataset\\train\\biodegradable\\food_waste\n",
    "\n",
    "for root, dirs, files in os.walk(\"C:/Users/marta/Documents/Courses/Data_analysis/Week_9/Images/waste_segreg_dataset_bio-nonbio/Dataset/train/biodegradable/paper_waste/\"):\n",
    "    for file in files:\n",
    "        #all \n",
    "        if file.endswith(\".jpg\") or file.endswith(\".png\") or file.endswith(\".jpeg\"):\n",
    "            files_list.append(os.path.join(root, file))\n",
    "\n",
    "\n",
    "#print images\n",
    "#lets me count and print the amount of jpeg,jpg,pmg \n",
    "file_count = len(files_list)\n",
    "print(file_count)\n",
    "\n",
    "# print files_list   \n",
    "filesToCopy = random.sample(files_list, 1259)  #prints two random files from list \n",
    "\n",
    "destPath = \"C:/Users/marta/Documents/Courses/Data_analysis/Week_9/Images/garbage_classification/paper2013/\"\n",
    "\n",
    "# if destination dir does not exists, create it\n",
    "if os.path.isdir(destPath) == False:\n",
    "        os.makedirs(destPath)\n",
    "\n",
    "# iteraate over all random files and move them\n",
    "for file in filesToCopy:\n",
    "    shutil.copy(file, destPath)"
   ]
  },
  {
   "attachments": {},
   "cell_type": "markdown",
   "metadata": {},
   "source": [
    "## Cardboard"
   ]
  },
  {
   "cell_type": "code",
   "execution_count": 3,
   "metadata": {},
   "outputs": [
    {
     "name": "stdout",
     "output_type": "stream",
     "text": [
      "891\n"
     ]
    }
   ],
   "source": [
    "# cardboard\n",
    "import os\n",
    "import shutil\n",
    "import glob\n",
    "import random\n",
    "\n",
    "files_list = []\n",
    "# C:\\Users\\marta\\Documents\\Courses\\Data_analysis\\Week_9\\Images\\waste_segreg_dataset_bio-nonbio\\Dataset\\train\\biodegradable\\food_waste\n",
    "\n",
    "for root, dirs, files in os.walk(\"C:/Users/marta/Documents/Courses/Data_analysis/Week_9/Images/garbage_classification/paper2013/cardboard891/\"):\n",
    "    for file in files:\n",
    "        #all \n",
    "        if file.endswith(\".jpg\") or file.endswith(\".png\") or file.endswith(\".jpeg\"):\n",
    "            files_list.append(os.path.join(root, file))\n",
    "\n",
    "\n",
    "#print images\n",
    "#lets me count and print the amount of jpeg,jpg,pmg \n",
    "file_count = len(files_list)\n",
    "print(file_count)\n",
    "\n",
    "# print files_list   \n",
    "filesToCopy = random.sample(files_list, 300)  #prints two random files from list \n",
    "\n",
    "destPath = \"C:/Users/marta/Documents/Courses/Data_analysis/Week_9/Images/garbage_classification/paper2013/\"\n",
    "\n",
    "# if destination dir does not exists, create it\n",
    "if os.path.isdir(destPath) == False:\n",
    "        os.makedirs(destPath)\n",
    "\n",
    "# iteraate over all random files and move them\n",
    "for file in filesToCopy:\n",
    "    shutil.copy(file, destPath)"
   ]
  },
  {
   "attachments": {},
   "cell_type": "markdown",
   "metadata": {},
   "source": [
    "## Clothes"
   ]
  },
  {
   "cell_type": "code",
   "execution_count": 5,
   "metadata": {},
   "outputs": [
    {
     "name": "stdout",
     "output_type": "stream",
     "text": [
      "5325\n"
     ]
    }
   ],
   "source": [
    "# clothes\n",
    "import os\n",
    "import shutil\n",
    "import glob\n",
    "import random\n",
    "\n",
    "files_list = []\n",
    "# C:\\Users\\marta\\Documents\\Courses\\Data_analysis\\Week_9\\Images\\waste_segreg_dataset_bio-nonbio\\Dataset\\train\\biodegradable\\food_waste\n",
    "\n",
    "for root, dirs, files in os.walk(\"C:/Users/marta/Documents/Courses/Data_analysis/Week_9/Images/Other/clothes5325/\"):\n",
    "    for file in files:\n",
    "        #all \n",
    "        if file.endswith(\".jpg\") or file.endswith(\".png\") or file.endswith(\".jpeg\"):\n",
    "            files_list.append(os.path.join(root, file))\n",
    "\n",
    "\n",
    "#print images\n",
    "#lets me count and print the amount of jpeg,jpg,pmg \n",
    "file_count = len(files_list)\n",
    "print(file_count)\n",
    "\n",
    "# print files_list   \n",
    "filesToCopy = random.sample(files_list, 1000)  #prints two random files from list \n",
    "\n",
    "destPath = \"C:/Users/marta/Documents/Courses/Data_analysis/Week_9/Images/garbage_classification/punto_limpio8648/clothes\"\n",
    "\n",
    "# if destination dir does not exists, create it\n",
    "if os.path.isdir(destPath) == False:\n",
    "        os.makedirs(destPath)\n",
    "\n",
    "# iteraate over all random files and move them\n",
    "for file in filesToCopy:\n",
    "    shutil.copy(file, destPath)"
   ]
  },
  {
   "attachments": {},
   "cell_type": "markdown",
   "metadata": {},
   "source": [
    "## Shoes"
   ]
  },
  {
   "cell_type": "code",
   "execution_count": 6,
   "metadata": {},
   "outputs": [
    {
     "name": "stdout",
     "output_type": "stream",
     "text": [
      "1977\n"
     ]
    }
   ],
   "source": [
    "# shoes\n",
    "import os\n",
    "import shutil\n",
    "import glob\n",
    "import random\n",
    "\n",
    "files_list = []\n",
    "# C:\\Users\\marta\\Documents\\Courses\\Data_analysis\\Week_9\\Images\\waste_segreg_dataset_bio-nonbio\\Dataset\\train\\biodegradable\\food_waste\n",
    "\n",
    "for root, dirs, files in os.walk(\"C:/Users/marta/Documents/Courses/Data_analysis/Week_9/Images/Other/shoes1977/\"):\n",
    "    for file in files:\n",
    "        #all \n",
    "        if file.endswith(\".jpg\") or file.endswith(\".png\") or file.endswith(\".jpeg\"):\n",
    "            files_list.append(os.path.join(root, file))\n",
    "\n",
    "\n",
    "#print images\n",
    "#lets me count and print the amount of jpeg,jpg,pmg \n",
    "file_count = len(files_list)\n",
    "print(file_count)\n",
    "\n",
    "# print files_list   \n",
    "filesToCopy = random.sample(files_list, 400)  #prints two random files from list \n",
    "\n",
    "destPath = \"C:/Users/marta/Documents/Courses/Data_analysis/Week_9/Images/garbage_classification/punto_limpio8648/shoes400\"\n",
    "\n",
    "# if destination dir does not exists, create it\n",
    "if os.path.isdir(destPath) == False:\n",
    "        os.makedirs(destPath)\n",
    "\n",
    "# iteraate over all random files and move them\n",
    "for file in filesToCopy:\n",
    "    shutil.copy(file, destPath)"
   ]
  },
  {
   "attachments": {},
   "cell_type": "markdown",
   "metadata": {},
   "source": [
    "## Furniture"
   ]
  },
  {
   "cell_type": "code",
   "execution_count": 4,
   "metadata": {},
   "outputs": [
    {
     "name": "stdout",
     "output_type": "stream",
     "text": [
      "9333\n"
     ]
    }
   ],
   "source": [
    "import os\n",
    "import random\n",
    "import shutil\n",
    "\n",
    "\n",
    "files_list = []\n",
    "\n",
    "for root, dirs, files in os.walk(\"C:/Users/marta/Documents/Courses/Data_analysis/Week_9/Images/furniture_images/\"):\n",
    "    for file in files:\n",
    "        #all \n",
    "        if file.endswith(\".jpg\") or file.endswith(\".png\") or file.endswith(\".jpeg\"):\n",
    "            files_list.append(os.path.join(root, file))\n",
    "\n",
    "\n",
    "#print images\n",
    "#lets me count and print the amount of jpeg,jpg,pmg \n",
    "file_count = len(files_list)\n",
    "print(file_count)\n",
    "\n",
    "# print files_list   \n",
    "filesToCopy = random.sample(files_list, 1000)  #prints two random files from list \n",
    "\n",
    "destPath = \"C:/Users/marta/Documents/Courses/Data_analysis/Week_9/Images/garbage_classification/punto_limpio8648/furniture\"\n",
    "\n",
    "# if destination dir does not exists, create it\n",
    "if os.path.isdir(destPath) == False:\n",
    "        os.makedirs(destPath)\n",
    "\n",
    "# iteraate over all random files and move them\n",
    "for file in filesToCopy:\n",
    "    shutil.copy(file, destPath)"
   ]
  },
  {
   "attachments": {},
   "cell_type": "markdown",
   "metadata": {},
   "source": [
    "# Rename images"
   ]
  },
  {
   "cell_type": "code",
   "execution_count": 8,
   "metadata": {},
   "outputs": [],
   "source": [
    "# test\n",
    "import os\n",
    "path = 'C:/Users/marta/Documents/Courses/Data_analysis/Week_9/Images/furniture_selected/'\n",
    "files = os.listdir(path)\n",
    "\n",
    "\n",
    "for index, file in enumerate(files):\n",
    "    os.rename(os.path.join(path, file), os.path.join(path, ''.join(['furniture','_',str(index), '.jpg'])))"
   ]
  },
  {
   "attachments": {},
   "cell_type": "markdown",
   "metadata": {},
   "source": []
  },
  {
   "cell_type": "code",
   "execution_count": 10,
   "metadata": {},
   "outputs": [],
   "source": [
    "# yellow\n",
    "import os\n",
    "path = 'C:/Users/marta/Documents/Courses/Data_analysis/Week_9/Final_project/Data/clean/yellow/'\n",
    "files = os.listdir(path)\n",
    "\n",
    "for index, file in enumerate(files):\n",
    "    os.rename(os.path.join(path, file), os.path.join(path, ''.join(['yellow','_',str(index), '.jpg'])))"
   ]
  },
  {
   "cell_type": "code",
   "execution_count": 1,
   "metadata": {},
   "outputs": [],
   "source": [
    "# glass\n",
    "import os\n",
    "path = 'C:/Users/marta/Documents/Courses/Data_analysis/Week_9/Final_project/Data/clean/glass/'\n",
    "files = os.listdir(path)\n",
    "\n",
    "for index, file in enumerate(files):\n",
    "    os.rename(os.path.join(path, file), os.path.join(path, ''.join(['glass','_',str(index), '.jpg'])))"
   ]
  },
  {
   "cell_type": "code",
   "execution_count": 2,
   "metadata": {},
   "outputs": [],
   "source": [
    "# organic\n",
    "import os\n",
    "path = 'C:/Users/marta/Documents/Courses/Data_analysis/Week_9/Final_project/Data/clean/organic/'\n",
    "files = os.listdir(path)\n",
    "\n",
    "for index, file in enumerate(files):\n",
    "    os.rename(os.path.join(path, file), os.path.join(path, ''.join(['organic','_',str(index), '.jpg'])))"
   ]
  },
  {
   "cell_type": "code",
   "execution_count": 3,
   "metadata": {},
   "outputs": [],
   "source": [
    "# paper\n",
    "import os\n",
    "path = 'C:/Users/marta/Documents/Courses/Data_analysis/Week_9/Final_project/Data/clean/paper/'\n",
    "files = os.listdir(path)\n",
    "\n",
    "for index, file in enumerate(files):\n",
    "    os.rename(os.path.join(path, file), os.path.join(path, ''.join(['paper','_',str(index), '.jpg'])))"
   ]
  },
  {
   "cell_type": "code",
   "execution_count": 4,
   "metadata": {},
   "outputs": [],
   "source": [
    "# recycling point\n",
    "import os\n",
    "path = 'C:/Users/marta/Documents/Courses/Data_analysis/Week_9/Final_project/Data/clean/recycling_point/'\n",
    "files = os.listdir(path)\n",
    "\n",
    "for index, file in enumerate(files):\n",
    "    os.rename(os.path.join(path, file), os.path.join(path, ''.join(['recpoint','_',str(index), '.jpg'])))"
   ]
  },
  {
   "cell_type": "code",
   "execution_count": null,
   "metadata": {},
   "outputs": [],
   "source": []
  }
 ],
 "metadata": {
  "kernelspec": {
   "display_name": "base",
   "language": "python",
   "name": "python3"
  },
  "language_info": {
   "codemirror_mode": {
    "name": "ipython",
    "version": 3
   },
   "file_extension": ".py",
   "mimetype": "text/x-python",
   "name": "python",
   "nbconvert_exporter": "python",
   "pygments_lexer": "ipython3",
   "version": "3.9.13"
  },
  "orig_nbformat": 4
 },
 "nbformat": 4,
 "nbformat_minor": 2
}
