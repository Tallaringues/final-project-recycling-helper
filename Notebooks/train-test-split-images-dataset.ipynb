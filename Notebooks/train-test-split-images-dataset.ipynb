{
 "cells": [
  {
   "attachments": {},
   "cell_type": "markdown",
   "metadata": {},
   "source": [
    "# Images train-test split\n",
    "\n",
    "**Useful information**\n",
    "- [shutil](https://docs.python.org/3/library/shutil.html)\n",
    "    - `shutil.move()`[info](https://www.geeksforgeeks.org/python-shutil-move-method/)\n",
    "    - `shutil.copy()`[info](https://www.geeksforgeeks.org/python-shutil-copy-method/)\n",
    "- [os](https://docs.python.org/3/library/os.html#module-os)\n",
    "\n",
    "\n",
    "Adapted from this answer in [Kaggle](https://www.kaggle.com/questions-and-answers/102677)"
   ]
  },
  {
   "cell_type": "code",
   "execution_count": null,
   "metadata": {},
   "outputs": [],
   "source": [
    "import os\n",
    "import numpy as np"
   ]
  },
  {
   "cell_type": "code",
   "execution_count": null,
   "metadata": {},
   "outputs": [],
   "source": [
    "# STEP-1 : MAKING DIRECTORY (make output directory then makes train, test and val directory inside output directory)\n",
    "os.makedirs('../Data/clean/output')\n",
    "os.makedirs('../Data/clean/output/train')\n",
    "os.makedirs('../Data/clean/output/test')\n",
    "\n",
    "os.listdir('../Data/clean/output')"
   ]
  },
  {
   "cell_type": "code",
   "execution_count": null,
   "metadata": {},
   "outputs": [],
   "source": [
    "# STEP-2 : SPLITTING THE DATASET (splitting of dataset based on targets and ratios and transferring them to output directory)\n",
    "\n",
    "import shutil\n",
    "import random\n",
    "import math\n",
    "\n",
    "root_dir = '../Data/clean'\n",
    "classes = ['glass', 'organic', 'paper', 'recycling_point', 'yellow']\n",
    "files = []\n",
    "for clss in classes:\n",
    "    print('------------' + clss + '-------------')\n",
    "    dirtry = root_dir + '/' + clss\n",
    "    print(dirtry)\n",
    "    files = os.listdir(dirtry)\n",
    "    #files.extend(os.listdir(dirtry))\n",
    "    np.random.shuffle(files)\n",
    "    base_outdir = '../Data/clean/output/'\n",
    "\n",
    "    for folder in ['train', 'test']:\n",
    "        target_dir = base_outdir + folder\n",
    "        os.makedirs(target_dir + '/' + clss)\n",
    "        target_class = target_dir + '/' + clss\n",
    "\n",
    "        if folder == 'train':\n",
    "            images_to_pass = files[: math.floor(0.8*len(files))]\n",
    "            for img in images_to_pass:\n",
    "                img = dirtry + '/' + img\n",
    "                shutil.copy(img, target_class)\n",
    "        else:\n",
    "            images_to_pass = files[math.floor(0.8*len(files)):]\n",
    "            for img in images_to_pass:\n",
    "                img = dirtry + '/' + img\n",
    "                shutil.copy(img, target_class)"
   ]
  },
  {
   "cell_type": "code",
   "execution_count": null,
   "metadata": {},
   "outputs": [],
   "source": [
    "# STEP-3 : CHECKING THE FILE SIZE (checking if the file split was perfect)\n",
    "\n",
    "#val_sum = 0\n",
    "#for flowr in os.listdir('./output/val'):\n",
    " #   lnk = './output/val/' + flowr\n",
    "  #  val_sum += len(os.listdir(lnk))\n",
    "\n",
    "train_sum = 0\n",
    "for flowr in os.listdir('../Data/clean/output/train'):\n",
    "    lnk = '../Data/clean/output/train/' + flowr\n",
    "    train_sum += len(os.listdir(lnk))\n",
    "\n",
    "test_sum = 0\n",
    "for flowr in os.listdir('../Data/clean/output/test'):\n",
    "    lnk = '../Data/clean/output/test/' + flowr\n",
    "    test_sum += len(os.listdir(lnk))\n",
    "\n",
    "#print(val_sum)\n",
    "print('Number of images in the TRAIN set',train_sum, 'Proportion of the total:', train_sum/(train_sum+test_sum))\n",
    "print()\n",
    "print('Number of images in the TEST',test_sum, 'Proportion of the total:', test_sum/(train_sum+test_sum))\n",
    "print()\n",
    "print('Total number of images',train_sum+test_sum)"
   ]
  }
 ],
 "metadata": {
  "language_info": {
   "name": "python"
  },
  "orig_nbformat": 4
 },
 "nbformat": 4,
 "nbformat_minor": 2
}
